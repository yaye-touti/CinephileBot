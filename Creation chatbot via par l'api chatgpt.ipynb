{
 "cells": [
  {
   "cell_type": "markdown",
   "id": "be38f84c",
   "metadata": {},
   "source": [
    "# Chatbot nommé \"CinéphileBot\" "
   ]
  },
  {
   "cell_type": "markdown",
   "id": "f540e7c5",
   "metadata": {},
   "source": [
    "Ce chatbot permet d'avoir des recommandation de films, des informations détaillées sur une varieté de titre.\n",
    "Il reponds au requetes thématique des utilisateurs."
   ]
  },
  {
   "cell_type": "code",
   "execution_count": 1,
   "id": "4f9a6b44",
   "metadata": {},
   "outputs": [],
   "source": [
    "Key =''"
   ]
  },
  {
   "cell_type": "code",
   "execution_count": 2,
   "id": "9e851268",
   "metadata": {},
   "outputs": [
    {
     "name": "stdout",
     "output_type": "stream",
     "text": [
      "Voici trois films populaires de John Travolta : \n",
      "1. \"Grease\" (1978) - dans lequel il joue le rôle de Danny Zuko, un lycéen séduisant et charismatique.\n",
      "2. \"Pulp Fiction\" (1994) - dans lequel il interprète Vincent Vega, un tueur à gages à la cool dans ce film culte réalisé par Quentin Tarantino.\n",
      "3. \"La Fièvre du samedi soir\" (1977) - où il incarne Tony Manero, un jeune homme passionné par la danse disco dans cette comédie musicale à succès.\n"
     ]
    }
   ],
   "source": [
    "from openai import OpenAI\n",
    "client = OpenAI(api_key=Key)\n",
    "\n",
    "completion = client.chat.completions.create(\n",
    "  model=\"gpt-3.5-turbo\",\n",
    "  messages=[\n",
    "    {\"role\": \"system\", \"content\": \"tu es un cinephile \"},\n",
    "    {\"role\": \"user\", \"content\": \"site moi 3 film de john travolta\"}\n",
    "  ]\n",
    ")\n",
    "\n",
    "print(completion.choices[0].message.content)"
   ]
  },
  {
   "cell_type": "code",
   "execution_count": 8,
   "id": "10f77d9f",
   "metadata": {},
   "outputs": [],
   "source": [
    "import tkinter as tk  #  l'interface graphique\n",
    "from tkinter import scrolledtext  \n",
    "from tkinter import messagebox  \n",
    "from openai import OpenAI  \n",
    "\n",
    "class ChatbotGUI:\n",
    "    def __init__(self, master):\n",
    "        self.master = master  # Stockage de la fenêtre principale de l'application\n",
    "        master.title(\"CinéphileBot\")  \n",
    "\n",
    "        self.chat_history = scrolledtext.ScrolledText(master, width=50, height=20)\n",
    "        self.chat_history.grid(row=0, column=0, columnspan=2, padx=10, pady=10)  \n",
    "\n",
    "        self.user_input = tk.Entry(master, width=40)\n",
    "        self.user_input.grid(row=1, column=0, padx=10, pady=10)  \n",
    "\n",
    "        # Création d'un bouton \"Envoyer\" pour envoyer les messages\n",
    "        self.send_button = tk.Button(master, text=\"Envoyer\", command=self.send_message)\n",
    "        self.send_button.grid(row=1, column=1, padx=10, pady=10)  \n",
    "\n",
    "        # Initialisation de l'instance de l'API OpenAI\n",
    "        self.chatbot = OpenAI(api_key=Key)  # Note : la variable Key doit être définie auparavant\n",
    "\n",
    "    def send_message(self):\n",
    "        # Récupération du message saisi par l'utilisateur\n",
    "        user_message = self.user_input.get()  \n",
    "        if user_message.strip() == \"\":  \n",
    "            messagebox.showwarning(\"Attention\", \"Veuillez entrer un message.\")  \n",
    "\n",
    "        # Affichage du message de l'utilisateur dans l'historique du chat\n",
    "        self.chat_history.insert(tk.END, \"Vous: \" + user_message + \"\\n\")\n",
    "        self.user_input.delete(0, tk.END)  \n",
    "\n",
    "        # Envoi de la question à l'API du chatbot\n",
    "        try:\n",
    "            completion = self.chatbot.chat.completions.create(\n",
    "                model=\"gpt-3.5-turbo\",\n",
    "                messages=[\n",
    "                    {\"role\": \"system\", \"content\": \"tu es un cinéphile \"},  #\n",
    "                    {\"role\": \"user\", \"content\": user_message}  \n",
    "                ]\n",
    "            )\n",
    "            chatbot_response = completion.choices[0].message.content  # Récupération de la réponse du chatbot\n",
    "            # Affichage de la réponse du chatbot dans l'historique du chat\n",
    "            self.chat_history.insert(tk.END, \"CinéphileBot: \" + chatbot_response + \"\\n\")\n",
    "        except Exception as e:  \n",
    "            # Affichage d'une erreur en cas de problème de communication avec le chatbot\n",
    "            messagebox.showerror(\"Erreur\", \"Une erreur s'est produite lors de la communication avec le chatbot : \" + str(e))\n"
   ]
  },
  {
   "cell_type": "code",
   "execution_count": 9,
   "id": "da5ffe09",
   "metadata": {},
   "outputs": [],
   "source": [
    "def main():\n",
    "    # Fonction principale pour exécuter l'interface graphique\n",
    "    root = tk.Tk()\n",
    "    app = ChatbotGUI(root)\n",
    "    root.mainloop()\n",
    "\n",
    "if __name__ == \"__main__\":\n",
    "    main()"
   ]
  },
  {
   "cell_type": "code",
   "execution_count": 7,
   "id": "112c3b56",
   "metadata": {},
   "outputs": [
    {
     "data": {
      "text/plain": [
       "sys.version_info(major=3, minor=10, micro=9, releaselevel='final', serial=0)"
      ]
     },
     "execution_count": 7,
     "metadata": {},
     "output_type": "execute_result"
    }
   ],
   "source": [
    "import sys\n",
    "sys.version_info"
   ]
  },
  {
   "cell_type": "code",
   "execution_count": null,
   "id": "06d805ea",
   "metadata": {},
   "outputs": [],
   "source": []
  }
 ],
 "metadata": {
  "kernelspec": {
   "display_name": "Python 3 (ipykernel)",
   "language": "python",
   "name": "python3"
  },
  "language_info": {
   "codemirror_mode": {
    "name": "ipython",
    "version": 3
   },
   "file_extension": ".py",
   "mimetype": "text/x-python",
   "name": "python",
   "nbconvert_exporter": "python",
   "pygments_lexer": "ipython3",
   "version": "3.10.9"
  }
 },
 "nbformat": 4,
 "nbformat_minor": 5
}
